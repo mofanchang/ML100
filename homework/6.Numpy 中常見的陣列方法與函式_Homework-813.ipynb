{
 "cells": [
  {
   "cell_type": "markdown",
   "metadata": {
    "id": "P6xk2_jLsvFF"
   },
   "source": [
    "# [作業目標]\n",
    "\n",
    "1. [簡答題] 請問下列這三種方法有什麼不同？\n",
    "\n",
    "```\n",
    "print(a.sum()) \n",
    "print(np.sum(a))\n",
    "print(sum(a)) \n",
    "```\n",
    "\n",
    "2. 請對一個 5x5 的隨機矩陣作正規化的操作。\n",
    "\n",
    "3. 請建立一個長度等於 10 的正整數向量，並且將其中的最大值改成 -1。\n"
   ]
  },
  {
   "cell_type": "markdown",
   "metadata": {
    "id": "uXGll28asvFS"
   },
   "source": [
    "# 作業 "
   ]
  },
  {
   "cell_type": "markdown",
   "metadata": {
    "id": "lbz8VjL6jxyL"
   },
   "source": [
    "### 1. [簡答題] 請問下列這三種方法有什麼不同？\n",
    "\n",
    "```\n",
    "print(a.sum()) \n",
    "print(np.sum(a))\n",
    "print(sum(a)) \n",
    "```\n",
    "\n"
   ]
  },
  {
   "cell_type": "markdown",
   "metadata": {},
   "source": [
    "sum() 內建函式, np.sum(),a.sum(),np or array底下"
   ]
  },
  {
   "cell_type": "code",
   "execution_count": null,
   "metadata": {
    "id": "5QrYoyNWsvFS",
    "outputId": "e9e14d36-38ce-4ce5-edf2-3c7b129db580"
   },
   "outputs": [
    {
     "data": {
      "text/plain": [
       "'\\nYour Code\\n'"
      ]
     },
     "execution_count": 3,
     "metadata": {
      "tags": []
     },
     "output_type": "execute_result"
    }
   ],
   "source": [
    "'''\n",
    "Your Code\n",
    "'''"
   ]
  },
  {
   "cell_type": "markdown",
   "metadata": {
    "id": "vVrjBXabjxyS"
   },
   "source": [
    "### 2. 請對一個 5x5 的隨機矩陣作正規化的操作。\n"
   ]
  },
  {
   "cell_type": "markdown",
   "metadata": {},
   "source": [
    "正規化(Normalization)？ 就是結構化分析與設計中，建構 「資料模式」所運用的一個技術，其目的是為了降低資料的「重覆性」 與避免「更新異常」的情況發生。 因此，就必須將整個資料表中重複性的資料剔除，否則在關聯表中 會造成新增異常、刪除異常、修改異常的狀況發生。"
   ]
  },
  {
   "cell_type": "markdown",
   "metadata": {},
   "source": [
    "Normalise 的目的就是把數據所有可能值，按比例或按數式，將其限制在一定範圍內。"
   ]
  },
  {
   "cell_type": "markdown",
   "metadata": {},
   "source": [
    "重新定義數字範圍，並將資料縮放或位移。\n",
    "常見的縮放是縮放至0~1或是-1~1。\n",
    "幾種正規化的方法：\n",
    "1.scaling to a range\n",
    "修正資料範圍用，其分布不變。\n",
    "x'=(x-x.min)/(x.max-x.min)"
   ]
  },
  {
   "cell_type": "code",
   "execution_count": null,
   "metadata": {
    "id": "ffDRVHs9jxyS"
   },
   "outputs": [],
   "source": [
    "# 記得先 Import 正確的套件\n",
    "\n",
    "'''\n",
    "Your Code\n",
    "'''"
   ]
  },
  {
   "cell_type": "code",
   "execution_count": 38,
   "metadata": {
    "id": "e1gVI0tvsvFY",
    "outputId": "43bf676f-fd04-4edf-c062-b5fe7fe1f4bf"
   },
   "outputs": [
    {
     "name": "stdout",
     "output_type": "stream",
     "text": [
      "[[0.24668758 0.71116146 0.58367007 0.08628486 0.49944491]\n",
      " [0.65190945 0.10491531 0.00147303 0.41075214 0.70469802]\n",
      " [0.29555542 0.593332   0.62669453 0.57666935 0.01800989]\n",
      " [0.11324756 0.57430225 0.66358347 0.46855419 0.73268477]\n",
      " [0.22683829 0.05283234 0.20363375 0.86488152 0.85723158]]\n",
      "[[0.28400757 0.82196137 0.6743008  0.09822909 0.5767512 ]\n",
      " [0.75333567 0.11980688 0.         0.47402719 0.81447541]\n",
      " [0.34060631 0.68549125 0.72413174 0.66619256 0.019153  ]\n",
      " [0.12945729 0.66345098 0.76685652 0.54097355 0.84688968]\n",
      " [0.26101811 0.05948436 0.23414261 1.         0.99113984]]\n"
     ]
    }
   ],
   "source": [
    "A = np.random.random((5, 5))\n",
    "print(A)\n",
    "\n",
    "'''\n",
    "Your Code\n",
    "'''\n",
    "A = (A - A.min()) / (A.max()-A.min())\n",
    "print(A)"
   ]
  },
  {
   "cell_type": "markdown",
   "metadata": {
    "id": "Ptc3ZrNQjxyU"
   },
   "source": [
    "### 3. 請建立一個長度等於 10 的正整數向量，並且將其中的最大值改成 -1。\n"
   ]
  },
  {
   "cell_type": "code",
   "execution_count": null,
   "metadata": {
    "id": "Yu1kbLxojxyU",
    "outputId": "d323e754-178a-46ae-e15e-98275ae220dd"
   },
   "outputs": [
    {
     "name": "stdout",
     "output_type": "stream",
     "text": [
      "[ 0.29347583  0.59303277 -1.          0.38043546  0.63265939  0.32472618\n",
      "  0.11340241  0.68136955  0.89905432  0.74769935]\n"
     ]
    }
   ],
   "source": [
    "'''\n",
    "Your Code\n",
    "'''"
   ]
  },
  {
   "cell_type": "code",
   "execution_count": 34,
   "metadata": {
    "id": "IoPlZnZgjxyV"
   },
   "outputs": [
    {
     "name": "stdout",
     "output_type": "stream",
     "text": [
      "[0.97483315 0.99913977 0.1279347  0.1481831  0.20408853 0.92278356\n",
      " 0.85289859 0.60709461 0.88435039 0.47300042]\n",
      "[ 0.97483315 -1.          0.1279347   0.1481831   0.20408853  0.92278356\n",
      "  0.85289859  0.60709461  0.88435039  0.47300042]\n"
     ]
    }
   ],
   "source": [
    "import numpy as np\n",
    "A = np.random.random(10)\n",
    "print(A)\n",
    "A[A.argmax()]=-1\n",
    "print(A)\n"
   ]
  }
 ],
 "metadata": {
  "colab": {
   "name": "06 Homework_維元.ipynb",
   "provenance": []
  },
  "kernelspec": {
   "display_name": "Python 3 (ipykernel)",
   "language": "python",
   "name": "python3"
  },
  "language_info": {
   "codemirror_mode": {
    "name": "ipython",
    "version": 3
   },
   "file_extension": ".py",
   "mimetype": "text/x-python",
   "name": "python",
   "nbconvert_exporter": "python",
   "pygments_lexer": "ipython3",
   "version": "3.9.7"
  }
 },
 "nbformat": 4,
 "nbformat_minor": 1
}
