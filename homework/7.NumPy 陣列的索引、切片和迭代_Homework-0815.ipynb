{
 "cells": [
  {
   "cell_type": "markdown",
   "metadata": {
    "colab_type": "text",
    "id": "P6xk2_jLsvFF"
   },
   "source": [
    "# [作業目標]\n",
    "\n",
    "1. 請比較對一個 100 x 100 * 100 的陣列，使用不同方法對每一個元素 +1 的時間比較。\n",
    "\n",
    "2. 如何從一個陣列中，找出出現頻率最高的數值與位置？\n",
    "\n",
    "3. 如何利用 list(...) 實現 a.tolist() 的效果？試著用程式實作。\n"
   ]
  },
  {
   "cell_type": "markdown",
   "metadata": {
    "colab_type": "text",
    "id": "uXGll28asvFS"
   },
   "source": [
    "# 作業 "
   ]
  },
  {
   "cell_type": "markdown",
   "metadata": {},
   "source": [
    "1. 請比較對一個 100 x 100 x 100 的陣列，使用不同方法對每一個元素 +1 的時間比較。"
   ]
  },
  {
   "cell_type": "code",
   "execution_count": 85,
   "metadata": {},
   "outputs": [],
   "source": [
    "# 記得先 Import 正確的套件\n",
    "import numpy as np"
   ]
  },
  {
   "cell_type": "code",
   "execution_count": 4,
   "metadata": {
    "colab": {},
    "colab_type": "code",
    "id": "5QrYoyNWsvFS"
   },
   "outputs": [
    {
     "name": "stdout",
     "output_type": "stream",
     "text": [
      "[[[9 5 4 ... 9 5 9]\n",
      "  [0 8 2 ... 0 7 1]\n",
      "  [9 5 7 ... 9 5 6]\n",
      "  ...\n",
      "  [1 0 5 ... 5 4 8]\n",
      "  [9 1 4 ... 8 7 1]\n",
      "  [3 1 5 ... 8 9 9]]\n",
      "\n",
      " [[1 4 5 ... 2 1 0]\n",
      "  [7 7 8 ... 1 2 3]\n",
      "  [6 9 7 ... 6 3 1]\n",
      "  ...\n",
      "  [2 0 6 ... 6 9 7]\n",
      "  [3 6 6 ... 7 7 0]\n",
      "  [3 4 7 ... 5 6 5]]\n",
      "\n",
      " [[6 7 5 ... 5 7 4]\n",
      "  [3 6 7 ... 0 3 4]\n",
      "  [6 2 8 ... 6 0 8]\n",
      "  ...\n",
      "  [6 7 4 ... 2 5 2]\n",
      "  [6 9 9 ... 5 9 5]\n",
      "  [3 6 3 ... 2 3 5]]\n",
      "\n",
      " ...\n",
      "\n",
      " [[2 0 1 ... 7 9 8]\n",
      "  [6 7 1 ... 0 5 1]\n",
      "  [7 6 3 ... 6 3 9]\n",
      "  ...\n",
      "  [7 7 3 ... 2 2 8]\n",
      "  [4 9 7 ... 2 5 7]\n",
      "  [1 7 7 ... 8 5 6]]\n",
      "\n",
      " [[7 7 6 ... 4 4 8]\n",
      "  [7 7 3 ... 0 6 7]\n",
      "  [7 0 2 ... 0 2 1]\n",
      "  ...\n",
      "  [7 9 5 ... 5 0 7]\n",
      "  [9 5 7 ... 5 3 7]\n",
      "  [8 3 3 ... 0 4 8]]\n",
      "\n",
      " [[8 2 7 ... 8 6 9]\n",
      "  [5 2 9 ... 6 3 0]\n",
      "  [3 7 6 ... 3 2 7]\n",
      "  ...\n",
      "  [1 5 6 ... 0 7 9]\n",
      "  [8 7 2 ... 9 6 9]\n",
      "  [7 1 7 ... 2 9 7]]]\n"
     ]
    }
   ],
   "source": [
    "import numpy as np\n",
    "Z = np.random.randint(0, 10, 1000000).reshape(100, 100, 100)\n",
    "print(Z)"
   ]
  },
  {
   "cell_type": "code",
   "execution_count": 13,
   "metadata": {},
   "outputs": [
    {
     "name": "stdout",
     "output_type": "stream",
     "text": [
      "64.3 ns ± 19.2 ns per loop (mean ± std. dev. of 7 runs, 10 loops each)\n"
     ]
    }
   ],
   "source": [
    "%timeit -n 10 a = 2\n",
    "\n",
    "for data in Z:\n",
    "    for row in data:\n",
    "        for a in row:\n",
    "            a+=1"
   ]
  },
  {
   "cell_type": "code",
   "execution_count": 14,
   "metadata": {},
   "outputs": [
    {
     "name": "stdout",
     "output_type": "stream",
     "text": [
      "71.4 ns ± 17.3 ns per loop (mean ± std. dev. of 7 runs, 10 loops each)\n"
     ]
    }
   ],
   "source": [
    "%timeit -n 10 a = 2\n",
    "\n",
    "for i in Z.flat:\n",
    "    i+=1"
   ]
  },
  {
   "cell_type": "code",
   "execution_count": 15,
   "metadata": {},
   "outputs": [
    {
     "name": "stdout",
     "output_type": "stream",
     "text": [
      "70 ns ± 16.9 ns per loop (mean ± std. dev. of 7 runs, 10 loops each)\n"
     ]
    }
   ],
   "source": [
    "%timeit -n 10 a = 2\n",
    "\n",
    "Z += 1"
   ]
  },
  {
   "cell_type": "code",
   "execution_count": 16,
   "metadata": {},
   "outputs": [
    {
     "name": "stdout",
     "output_type": "stream",
     "text": [
      "71.4 ns ± 24.2 ns per loop (mean ± std. dev. of 7 runs, 10 loops each)\n"
     ]
    }
   ],
   "source": [
    "%timeit -n 10 a = 2\n",
    "\n",
    "'''\n",
    "Your Code\n",
    "'''\n",
    "\n",
    "for data in Z:\n",
    "    for row in data:\n",
    "        for a in row:\n",
    "            a+=1"
   ]
  },
  {
   "cell_type": "code",
   "execution_count": 17,
   "metadata": {},
   "outputs": [
    {
     "name": "stdout",
     "output_type": "stream",
     "text": [
      "68.6 ns ± 17.3 ns per loop (mean ± std. dev. of 7 runs, 10 loops each)\n"
     ]
    }
   ],
   "source": [
    "%timeit -n 10 a = 2\n",
    "for data in Z:\n",
    "    for row in data:\n",
    "        for a in row:\n",
    "            a+=1"
   ]
  },
  {
   "cell_type": "code",
   "execution_count": 18,
   "metadata": {},
   "outputs": [
    {
     "name": "stdout",
     "output_type": "stream",
     "text": [
      "47.1 ns ± 13.9 ns per loop (mean ± std. dev. of 7 runs, 10 loops each)\n"
     ]
    }
   ],
   "source": [
    "%timeit -n 10 a = 2\n",
    "\n",
    "for i in Z.flat:\n",
    "    i+=1"
   ]
  },
  {
   "cell_type": "code",
   "execution_count": 19,
   "metadata": {},
   "outputs": [
    {
     "name": "stdout",
     "output_type": "stream",
     "text": [
      "181 ns ± 286 ns per loop (mean ± std. dev. of 7 runs, 10 loops each)\n"
     ]
    }
   ],
   "source": [
    "%timeit -n 10 a = 2\n",
    "Z +=1"
   ]
  },
  {
   "cell_type": "markdown",
   "metadata": {},
   "source": [
    "2. 如何從一個陣列中，找出出現頻率最高的數值與位置？\n"
   ]
  },
  {
   "cell_type": "code",
   "execution_count": 30,
   "metadata": {
    "colab": {},
    "colab_type": "code",
    "id": "e1gVI0tvsvFY"
   },
   "outputs": [
    {
     "name": "stdout",
     "output_type": "stream",
     "text": [
      "[9 2 4 6 4 5 3 1 0 5 0 5 7 7 0 3 7 0 4 1 4 5 9 3 8 5 5 9 6 2 1 8 7 1 7 5 1\n",
      " 9 5 9 0 6 0 8 4 2 0 0 8 7]\n"
     ]
    }
   ],
   "source": [
    "Z = np.random.randint(0,10,50)\n",
    "print(Z)\n"
   ]
  },
  {
   "cell_type": "markdown",
   "metadata": {},
   "source": [
    "頻率最高的數值與位置"
   ]
  },
  {
   "cell_type": "code",
   "execution_count": 42,
   "metadata": {},
   "outputs": [
    {
     "name": "stdout",
     "output_type": "stream",
     "text": [
      "[0 1 2 3 4 5 6 7 8 9]\n",
      "[8 5 3 3 5 8 3 6 4 5]\n"
     ]
    }
   ],
   "source": [
    "uni,count = np.unique(Z, return_counts = True)\n",
    "print(uni,count,sep='\\n')\n"
   ]
  },
  {
   "cell_type": "code",
   "execution_count": 51,
   "metadata": {},
   "outputs": [
    {
     "name": "stdout",
     "output_type": "stream",
     "text": [
      "The most frequence high value: 0\n",
      "The number of most frequence high value: 8\n"
     ]
    }
   ],
   "source": [
    "print('The most frequence high value:',uni[np.argmax(count)])\n",
    "print('The number of most frequence high value:',max(count))"
   ]
  },
  {
   "cell_type": "code",
   "execution_count": 50,
   "metadata": {},
   "outputs": [
    {
     "name": "stdout",
     "output_type": "stream",
     "text": [
      "0\n",
      "8\n",
      "[ 8 10 14 17 40 42 46 47]\n"
     ]
    }
   ],
   "source": [
    "counts = np.unique(Z, return_counts=True)\n",
    "print(uni[np.argmax(count)])\n",
    "print(max(count))\n",
    "print(np.where(Z==uni[np.argmax(count)]))"
   ]
  },
  {
   "cell_type": "code",
   "execution_count": 52,
   "metadata": {},
   "outputs": [
    {
     "name": "stdout",
     "output_type": "stream",
     "text": [
      "The postion of most frequence high value: [ 8 10 14 17 40 42 46 47]\n"
     ]
    }
   ],
   "source": [
    "print('The postion of most frequence high value:',np.where(Z==uni[np.argmax(count)])[0])\n",
    "#np.where()[0] row，np.where()[1]column"
   ]
  },
  {
   "cell_type": "markdown",
   "metadata": {},
   "source": [
    "### 3. 如何利用 list(...) 實現 a.tolist() 的效果？試著用程式實作。\n"
   ]
  },
  {
   "cell_type": "code",
   "execution_count": 53,
   "metadata": {
    "scrolled": true
   },
   "outputs": [
    {
     "name": "stdout",
     "output_type": "stream",
     "text": [
      "[0, 7, 8, 6, 0, 2]\n",
      "[0, 7, 8, 6, 0, 2]\n",
      "[[8, 6, 1, 0], [1, 7, 9, 5], [1, 1, 3, 4]]\n",
      "[array([8, 6, 1, 0]), array([1, 7, 9, 5]), array([1, 1, 3, 4])]\n",
      "[[[0, 0], [6, 8], [4, 7]], [[8, 0], [3, 3], [5, 6]]]\n",
      "[array([[0, 0],\n",
      "       [6, 8],\n",
      "       [4, 7]]), array([[8, 0],\n",
      "       [3, 3],\n",
      "       [5, 6]])]\n"
     ]
    }
   ],
   "source": [
    "a = np.random.randint(10, size=6) \n",
    "\n",
    "print(a.tolist())\n",
    "print(list(a))\n",
    "\n",
    "\n",
    "b = np.random.randint(10, size=(3,4)) \n",
    "\n",
    "print(b.tolist())\n",
    "print(list(b))\n",
    "\n",
    "\n",
    "c = np.random.randint(10, size=(2,3,2)) \n",
    "\n",
    "print(c.tolist())\n",
    "print(list(c))\n"
   ]
  },
  {
   "cell_type": "code",
   "execution_count": 54,
   "metadata": {},
   "outputs": [
    {
     "name": "stdout",
     "output_type": "stream",
     "text": [
      "[3, 5, 9, 6, 9, 3]\n",
      "[3, 5, 9, 6, 9, 3]\n"
     ]
    }
   ],
   "source": [
    "a = np.random.randint(10, size=6) \n",
    "\n",
    "print(a.tolist())\n",
    "print(list(a))"
   ]
  },
  {
   "cell_type": "code",
   "execution_count": 64,
   "metadata": {},
   "outputs": [
    {
     "name": "stdout",
     "output_type": "stream",
     "text": [
      "[3, 5, 9, 6, 9, 3]\n"
     ]
    }
   ],
   "source": [
    "print(list(a))"
   ]
  },
  {
   "cell_type": "code",
   "execution_count": 55,
   "metadata": {},
   "outputs": [
    {
     "name": "stdout",
     "output_type": "stream",
     "text": [
      "[[6, 5, 4, 7], [1, 2, 3, 0], [0, 9, 9, 7]]\n",
      "[array([6, 5, 4, 7]), array([1, 2, 3, 0]), array([0, 9, 9, 7])]\n"
     ]
    }
   ],
   "source": [
    "b = np.random.randint(10, size=(3,4)) \n",
    "\n",
    "print(b.tolist())\n",
    "print(list(b))"
   ]
  },
  {
   "cell_type": "code",
   "execution_count": 65,
   "metadata": {},
   "outputs": [
    {
     "name": "stdout",
     "output_type": "stream",
     "text": [
      "[[6, 5, 4, 7]]\n",
      "[[6, 5, 4, 7], [1, 2, 3, 0]]\n",
      "[[6, 5, 4, 7], [1, 2, 3, 0], [0, 9, 9, 7]]\n"
     ]
    }
   ],
   "source": [
    "b_list=[]\n",
    "for i in b:#0,1,2\n",
    "    b_list.append(list(i))\n",
    "    print(b_list)"
   ]
  },
  {
   "cell_type": "code",
   "execution_count": 69,
   "metadata": {},
   "outputs": [
    {
     "name": "stdout",
     "output_type": "stream",
     "text": [
      "[[[8, 3], [3, 6], [1, 9]], [[8, 7], [4, 7], [2, 4]]]\n",
      "[array([[8, 3],\n",
      "       [3, 6],\n",
      "       [1, 9]]), array([[8, 7],\n",
      "       [4, 7],\n",
      "       [2, 4]])]\n"
     ]
    }
   ],
   "source": [
    "c = np.random.randint(10, size=(2,3,2)) \n",
    "\n",
    "print(c.tolist())\n",
    "print(list(c),)"
   ]
  },
  {
   "cell_type": "code",
   "execution_count": 76,
   "metadata": {},
   "outputs": [
    {
     "name": "stdout",
     "output_type": "stream",
     "text": [
      "[[8, 3], [3, 6], [1, 9]]\n",
      "[[8, 7], [4, 7], [2, 4]]\n"
     ]
    }
   ],
   "source": [
    "all_list=[]\n",
    "for i in range(c.shape[0]):#一維\n",
    "    c_list=[]\n",
    "    for j in range(c.shape[1]):#二維\n",
    "        c_list.append(list(c[i][j]))\n",
    "    print(c_list)"
   ]
  },
  {
   "cell_type": "code",
   "execution_count": null,
   "metadata": {},
   "outputs": [],
   "source": [
    "all_list=[]\n",
    "for i in range(c.shape[0]):#一維\n",
    "    c_list=[]\n",
    "    for j in range(c.shape[1]):#二維\n",
    "        c_list.append(list(c[i][j]))\n",
    "    c_all_list.append(c_list)\n",
    "\n",
    "print(all_list)"
   ]
  },
  {
   "cell_type": "code",
   "execution_count": 71,
   "metadata": {},
   "outputs": [
    {
     "name": "stdout",
     "output_type": "stream",
     "text": [
      "[3, 5, 9, 6, 9, 3]\n",
      "[[6, 5, 4, 7], [1, 2, 3, 0], [0, 9, 9, 7]]\n",
      "[[[8, 3], [3, 6], [1, 9]], [[8, 7], [4, 7], [2, 4]]]\n"
     ]
    }
   ],
   "source": [
    "def tolist(iterable):\n",
    "    if type(iterable) != np.ndarray:\n",
    "        return iterable\n",
    "    newlist = []\n",
    "    for obj in iterable:\n",
    "        newlist.append(tolist(obj))\n",
    "    return list(newlist)\n",
    "\n",
    "print(tolist(a))\n",
    "print(tolist(b))\n",
    "print(tolist(c))"
   ]
  }
 ],
 "metadata": {
  "colab": {
   "name": "Day_023_HW.ipynb",
   "provenance": []
  },
  "kernelspec": {
   "display_name": "Python 3 (ipykernel)",
   "language": "python",
   "name": "python3"
  },
  "language_info": {
   "codemirror_mode": {
    "name": "ipython",
    "version": 3
   },
   "file_extension": ".py",
   "mimetype": "text/x-python",
   "name": "python",
   "nbconvert_exporter": "python",
   "pygments_lexer": "ipython3",
   "version": "3.9.7"
  }
 },
 "nbformat": 4,
 "nbformat_minor": 1
}
