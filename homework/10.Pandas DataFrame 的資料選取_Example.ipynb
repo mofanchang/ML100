{
 "cells": [
  {
   "cell_type": "markdown",
   "metadata": {},
   "source": [
    "# 範例\n",
    "***"
   ]
  },
  {
   "cell_type": "markdown",
   "metadata": {},
   "source": [
    "# [教學目標]\n",
    "\n",
    "* 正確使用欄位名稱與索引選取資料\n",
    "* 正確使用 location 座標選取資料\n",
    "* 正確使用 遮罩操作 選取資料\n",
    "\n"
   ]
  },
  {
   "cell_type": "code",
   "execution_count": 2,
   "metadata": {},
   "outputs": [
    {
     "name": "stdout",
     "output_type": "stream",
     "text": [
      "<module 'numpy' from '/Users/wei/.virtualenvs/py3/lib/python3.6/site-packages/numpy/__init__.py'>\n",
      "1.16.1\n",
      "<module 'pandas' from '/Users/wei/.virtualenvs/py3/lib/python3.6/site-packages/pandas/__init__.py'>\n",
      "0.23.1\n"
     ]
    }
   ],
   "source": [
    "# 載入 NumPy, Pandas 套件\n",
    "import numpy as np\n",
    "import pandas as pd\n",
    "\n",
    "# 檢查正確載入與版本\n",
    "print(np)\n",
    "print(np.__version__)\n",
    "print(pd)\n",
    "print(pd.__version__)"
   ]
  },
  {
   "cell_type": "code",
   "execution_count": 3,
   "metadata": {},
   "outputs": [
    {
     "name": "stdout",
     "output_type": "stream",
     "text": [
      "a    1\n",
      "b    4\n",
      "Name: A, dtype: int64\n",
      "a    2\n",
      "b    5\n",
      "Name: B, dtype: int64\n"
     ]
    }
   ],
   "source": [
    "# 利用欄位名稱選取單行資料\n",
    "\n",
    "import pandas as pd\n",
    "\n",
    "df = pd.DataFrame([[1, 2, 3], [4, 5, 6]], index=['a', 'b'], columns=['A', 'B', 'C'])\n",
    "\n",
    "print(df['A'])\n",
    "print(df['B'])\n"
   ]
  },
  {
   "cell_type": "code",
   "execution_count": 8,
   "metadata": {},
   "outputs": [
    {
     "name": "stdout",
     "output_type": "stream",
     "text": [
      "a    1\n",
      "b    4\n",
      "Name: A, dtype: int64\n",
      "a    2\n",
      "b    5\n",
      "Name: B, dtype: int64\n",
      "a    3\n",
      "b    6\n",
      "Name: C, dtype: int64\n"
     ]
    }
   ],
   "source": [
    "import pandas as pd\n",
    "\n",
    "df = pd.DataFrame([[1, 2, 3], [4, 5, 6]], index=['a', 'b'], columns=['A', 'B', 'C'])\n",
    "\n",
    "print(df['A'])\n",
    "print(df['B'])\n",
    "print(df['C'])"
   ]
  },
  {
   "cell_type": "code",
   "execution_count": 11,
   "metadata": {},
   "outputs": [
    {
     "name": "stdout",
     "output_type": "stream",
     "text": [
      "   A  B\n",
      "a  1  2\n",
      "b  4  5\n",
      "   A  C\n",
      "a  1  3\n",
      "b  4  6\n"
     ]
    }
   ],
   "source": [
    "# 利用欄位名稱選取多行資料\n",
    "\n",
    "import pandas as pd\n",
    "\n",
    "df = pd.DataFrame([[1, 2, 3], [4, 5, 6]], index=['a', 'b'], columns=['A', 'B', 'C'])\n",
    "\n",
    "print(df[['A', 'B']])\n",
    "print(df[['A', 'C']])\n"
   ]
  },
  {
   "cell_type": "code",
   "execution_count": 18,
   "metadata": {},
   "outputs": [
    {
     "ename": "SyntaxError",
     "evalue": "invalid syntax (Temp/ipykernel_6072/917138235.py, line 5)",
     "output_type": "error",
     "traceback": [
      "\u001b[1;36m  File \u001b[1;32m\"C:\\Users\\flora\\AppData\\Local\\Temp/ipykernel_6072/917138235.py\"\u001b[1;36m, line \u001b[1;32m5\u001b[0m\n\u001b[1;33m    df = pd.DataFrame([[1, 2, 3], [4, 5, 6]] index=['a', 'b'], columns=['A', 'B', 'C'])\u001b[0m\n\u001b[1;37m                                             ^\u001b[0m\n\u001b[1;31mSyntaxError\u001b[0m\u001b[1;31m:\u001b[0m invalid syntax\n"
     ]
    }
   ],
   "source": [
    "# 利用列索引位置選取單列/多列資料\n",
    "\n",
    "import pandas as pd\n",
    "\n",
    "df = pd.DataFrame([[1, 2, 3], [4, 5, 6]] index=['a', 'b'], columns=['A', 'B', 'C'])\n",
    "\n",
    "print(df[0:1])#row\n",
    "print(df[0:2])"
   ]
  },
  {
   "cell_type": "code",
   "execution_count": 24,
   "metadata": {
    "scrolled": true
   },
   "outputs": [
    {
     "name": "stdout",
     "output_type": "stream",
     "text": [
      "   A  B  C\n",
      "a  1  2  3\n",
      "b  4  5  6\n",
      "   A  B  C\n",
      "a  1  2  3\n",
      "   A  B  C\n",
      "a  1  2  3\n",
      "b  4  5  6\n",
      "   A  B  C\n",
      "a  1  2  3\n",
      "b  4  5  6\n"
     ]
    }
   ],
   "source": [
    "import pandas as pd\n",
    "\n",
    "df = pd.DataFrame([[1, 2, 3], [4, 5, 6]], index=['a', 'b'], columns=['A', 'B', 'C'])\n",
    "\n",
    "print(df[:2])\n",
    "print(df[0:1])\n",
    "print(df[0:2])\n",
    "print(df[0:3])"
   ]
  },
  {
   "cell_type": "markdown",
   "metadata": {},
   "source": [
    "#loc,iloc,at,iat,ix"
   ]
  },
  {
   "cell_type": "code",
   "execution_count": 28,
   "metadata": {},
   "outputs": [
    {
     "name": "stdout",
     "output_type": "stream",
     "text": [
      "1\n",
      "A    1\n",
      "B    2\n",
      "Name: c, dtype: int64\n",
      "c    1\n",
      "d    4\n",
      "Name: A, dtype: int64\n",
      "   A  B\n",
      "c  1  2\n",
      "d  4  5\n"
     ]
    }
   ],
   "source": [
    "# 用 loc, iloc, ix 取得行與列\n",
    "\n",
    "import pandas as pd\n",
    "\n",
    "df = pd.DataFrame([[1, 2, 3], [4, 5, 6]], index=['c', 'd'], columns=['A', 'B', 'C'])\n",
    "\n",
    "print(df.loc['c', 'A'])#row=a,column=A,(1,1)\n",
    "print(df.loc['c', ['A', 'B']])# c=row,A,B=column\n",
    "print(df.loc[['c', 'd'], 'A'])#c,d=row A=column\n",
    "print(df.loc[['c', 'd'], ['A', 'B']])#c,d=row, A,B=column\n"
   ]
  },
  {
   "cell_type": "code",
   "execution_count": 22,
   "metadata": {},
   "outputs": [
    {
     "name": "stdout",
     "output_type": "stream",
     "text": [
      "1\n",
      "A    1\n",
      "B    2\n",
      "Name: a, dtype: int64\n"
     ]
    }
   ],
   "source": [
    "import pandas as pd\n",
    "\n",
    "df = pd.DataFrame([[1, 2, 3], [4, 5, 6]], index=['a', 'b'], columns=['A', 'B', 'C'])\n",
    "\n",
    "print(df.loc['a', 'A'])\n",
    "print(df.loc['a',['A','B']])"
   ]
  },
  {
   "cell_type": "code",
   "execution_count": null,
   "metadata": {},
   "outputs": [],
   "source": [
    "import pandas as pd\n",
    "\n",
    "df = pd.DataFrame([[1, 2, 3], [4, 5, 6]], index=['a', 'b'], columns=['A', 'B', 'C'])\n",
    "\n",
    "print(df.loc['a',['A','B']])"
   ]
  },
  {
   "cell_type": "code",
   "execution_count": 7,
   "metadata": {
    "scrolled": true
   },
   "outputs": [
    {
     "name": "stdout",
     "output_type": "stream",
     "text": [
      "1\n",
      "A    1\n",
      "B    2\n",
      "Name: a, dtype: int64\n",
      "a    1\n",
      "b    4\n",
      "Name: A, dtype: int64\n",
      "   A  B\n",
      "a  1  2\n",
      "b  4  5\n"
     ]
    }
   ],
   "source": [
    "import pandas as pd #座標用法\n",
    "\n",
    "df = pd.DataFrame([[1, 2, 3], [4, 5, 6]], index=['a', 'b'], columns=['A', 'B', 'C'])\n",
    "\n",
    "print(df.iloc[0, 0])\n",
    "print(df.iloc[0, [0, 1]])\n",
    "print(df.iloc[[0, 1], 0])\n",
    "print(df.iloc[[0, 1], [0, 1]])\n"
   ]
  },
  {
   "cell_type": "code",
   "execution_count": 29,
   "metadata": {},
   "outputs": [
    {
     "name": "stdout",
     "output_type": "stream",
     "text": [
      "       A      B     C\n",
      "c  False  False  True\n",
      "d   True   True  True\n"
     ]
    }
   ],
   "source": [
    "print(df>2)"
   ]
  },
  {
   "cell_type": "code",
   "execution_count": 8,
   "metadata": {},
   "outputs": [
    {
     "name": "stdout",
     "output_type": "stream",
     "text": [
      "1\n",
      "A    1\n",
      "B    2\n",
      "Name: a, dtype: int64\n",
      "a    1\n",
      "b    4\n",
      "Name: A, dtype: int64\n",
      "   A  B\n",
      "a  1  2\n",
      "b  4  5\n"
     ]
    },
    {
     "name": "stderr",
     "output_type": "stream",
     "text": [
      "/Users/wei/.virtualenvs/py3/lib/python3.6/site-packages/ipykernel_launcher.py:5: DeprecationWarning: \n",
      ".ix is deprecated. Please use\n",
      ".loc for label based indexing or\n",
      ".iloc for positional indexing\n",
      "\n",
      "See the documentation here:\n",
      "http://pandas.pydata.org/pandas-docs/stable/indexing.html#ix-indexer-is-deprecated\n",
      "  \"\"\"\n",
      "/Users/wei/.virtualenvs/py3/lib/python3.6/site-packages/ipykernel_launcher.py:6: DeprecationWarning: \n",
      ".ix is deprecated. Please use\n",
      ".loc for label based indexing or\n",
      ".iloc for positional indexing\n",
      "\n",
      "See the documentation here:\n",
      "http://pandas.pydata.org/pandas-docs/stable/indexing.html#ix-indexer-is-deprecated\n",
      "  \n",
      "/Users/wei/.virtualenvs/py3/lib/python3.6/site-packages/ipykernel_launcher.py:7: DeprecationWarning: \n",
      ".ix is deprecated. Please use\n",
      ".loc for label based indexing or\n",
      ".iloc for positional indexing\n",
      "\n",
      "See the documentation here:\n",
      "http://pandas.pydata.org/pandas-docs/stable/indexing.html#ix-indexer-is-deprecated\n",
      "  import sys\n",
      "/Users/wei/.virtualenvs/py3/lib/python3.6/site-packages/ipykernel_launcher.py:8: DeprecationWarning: \n",
      ".ix is deprecated. Please use\n",
      ".loc for label based indexing or\n",
      ".iloc for positional indexing\n",
      "\n",
      "See the documentation here:\n",
      "http://pandas.pydata.org/pandas-docs/stable/indexing.html#ix-indexer-is-deprecated\n",
      "  \n"
     ]
    }
   ],
   "source": [
    "import pandas as pd#同時使用名稱跟位置來選資料\n",
    "\n",
    "df = pd.DataFrame([[1, 2, 3], [4, 5, 6]], index=['a', 'b'], columns=['A', 'B', 'C'])\n",
    "\n",
    "print(df.ix[0, 'A'])\n",
    "print(df.ix['a', [0, 1]])\n",
    "print(df.ix[['a', 'b'], 0])\n",
    "print(df.ix[[0, 1], ['A', 'B']])\n"
   ]
  },
  {
   "cell_type": "code",
   "execution_count": 9,
   "metadata": {},
   "outputs": [
    {
     "name": "stdout",
     "output_type": "stream",
     "text": [
      "1\n",
      "2\n",
      "1\n",
      "2\n"
     ]
    }
   ],
   "source": [
    "# 用 iat, at 取得資料\n",
    "\n",
    "print(df.loc['a', 'A'])\n",
    "print(df.iloc[0, 1])\n",
    "\n",
    "print(df.at['a', 'A'])\n",
    "print(df.iat[0, 1])\n"
   ]
  },
  {
   "cell_type": "code",
   "execution_count": 10,
   "metadata": {},
   "outputs": [
    {
     "name": "stdout",
     "output_type": "stream",
     "text": [
      "       A      B     C\n",
      "a  False  False  True\n",
      "b   True   True  True\n",
      "     A    B  C\n",
      "a  NaN  NaN  3\n",
      "b  4.0  5.0  6\n"
     ]
    }
   ],
   "source": [
    "# 根據條件篩選資料（遮罩）\n",
    "\n",
    "print(df > 2)\n",
    "#        A      B     C\n",
    "# a  False  False  True\n",
    "# b   True   True  True\n",
    "\n",
    "print(df[df > 2])\n",
    "#      A    B  C\n",
    "# a  NaN  NaN  3\n",
    "# b  4.0  5.0  6\n"
   ]
  },
  {
   "cell_type": "code",
   "execution_count": 11,
   "metadata": {},
   "outputs": [
    {
     "name": "stdout",
     "output_type": "stream",
     "text": [
      "a    False\n",
      "b     True\n",
      "Name: A, dtype: bool\n",
      "   A  B  C\n",
      "b  4  5  6\n"
     ]
    }
   ],
   "source": [
    "print(df['A'] > 2)\n",
    "# a    False\n",
    "# b     True\n",
    "# Name: A, dtype: bool\n",
    "\n",
    "print(df[df['A'] > 2])\n",
    "#    A  B  C\n",
    "# b  4  5  6\n",
    "\n"
   ]
  },
  {
   "cell_type": "code",
   "execution_count": null,
   "metadata": {},
   "outputs": [],
   "source": []
  }
 ],
 "metadata": {
  "kernelspec": {
   "display_name": "Python 3 (ipykernel)",
   "language": "python",
   "name": "python3"
  },
  "language_info": {
   "codemirror_mode": {
    "name": "ipython",
    "version": 3
   },
   "file_extension": ".py",
   "mimetype": "text/x-python",
   "name": "python",
   "nbconvert_exporter": "python",
   "pygments_lexer": "ipython3",
   "version": "3.9.7"
  }
 },
 "nbformat": 4,
 "nbformat_minor": 2
}
